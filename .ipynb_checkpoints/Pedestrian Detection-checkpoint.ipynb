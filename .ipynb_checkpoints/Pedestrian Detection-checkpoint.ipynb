{
 "cells": [
  {
   "cell_type": "markdown",
   "metadata": {},
   "source": [
    "# Pedestrian Detection in OpenCV using Haar Cascades"
   ]
  },
  {
   "cell_type": "code",
   "execution_count": 1,
   "metadata": {},
   "outputs": [],
   "source": [
    "# Import OpenCV and other libraries\n",
    "import cv2\n",
    "import imageio\n",
    "import numpy as np\n",
    "import imutils\n",
    "from imutils.object_detection import non_max_suppression"
   ]
  },
  {
   "cell_type": "code",
   "execution_count": 2,
   "metadata": {},
   "outputs": [],
   "source": [
    "# Loading the cascades\n",
    "cars_cascade = cv2.CascadeClassifier('/Users/skhiearth/Desktop/Vehicle and Pedestrian Detection using OpenCV/haarcascades/cars.xml')\n",
    "\n",
    "hog = cv2.HOGDescriptor()\n",
    "hog.setSVMDetector(cv2.HOGDescriptor_getDefaultPeopleDetector())\n",
    "\n",
    "# Detector Function\n",
    "def detector(grayScale, originalFrame):\n",
    "    (rects, weights) = hog.detectMultiScale(grayScale, winStride=(4, 4), padding=(8, 8), scale=1.05)\n",
    "        \n",
    "    # Non-maxima Suppression\n",
    "    rects = np.array([[x, y, x + w, y + h] for (x, y, w, h) in rects])\n",
    "    pick = non_max_suppression(rects, probs=None, overlapThresh=0.65)\n",
    "\n",
    "    # draw the final bounding boxes\n",
    "    for (xA, yA, xB, yB) in pick:\n",
    "        cv2.rectangle(originalFrame, (xA, yA), (xB, yB), (0, 255, 0), 2)\n",
    "\n",
    "    return originalFrame"
   ]
  },
  {
   "cell_type": "code",
   "execution_count": 3,
   "metadata": {},
   "outputs": [],
   "source": [
    "# Detection\n",
    "reader = imageio.get_reader('Input/simplepedestrian.mp4')\n",
    "fps = reader.get_meta_data()['fps']\n",
    "writer = imageio.get_writer('Output/simplepedestrian_output.mp4', fps = fps)\n",
    "for i, frame in enumerate(reader):\n",
    "    grayScale = cv2.cvtColor(frame, cv2.COLOR_BGR2GRAY)\n",
    "    canvas = detector(grayScale, frame)\n",
    "    writer.append_data(canvas)\n",
    "writer.close()"
   ]
  }
 ],
 "metadata": {
  "kernelspec": {
   "display_name": "Python 3",
   "language": "python",
   "name": "python3"
  },
  "language_info": {
   "codemirror_mode": {
    "name": "ipython",
    "version": 3
   },
   "file_extension": ".py",
   "mimetype": "text/x-python",
   "name": "python",
   "nbconvert_exporter": "python",
   "pygments_lexer": "ipython3",
   "version": "3.5.4"
  }
 },
 "nbformat": 4,
 "nbformat_minor": 2
}
